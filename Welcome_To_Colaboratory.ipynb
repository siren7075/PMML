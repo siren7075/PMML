{
  "cells": [
    {
      "cell_type": "markdown",
      "metadata": {
        "id": "view-in-github",
        "colab_type": "text"
      },
      "source": [
        "<a href=\"https://colab.research.google.com/github/siren7075/PMML/blob/main/Welcome_To_Colaboratory.ipynb\" target=\"_parent\"><img src=\"https://colab.research.google.com/assets/colab-badge.svg\" alt=\"Open In Colab\"/></a>"
      ]
    },
    {
      "cell_type": "code",
      "source": [
        "!pip install pypmml"
      ],
      "metadata": {
        "colab": {
          "base_uri": "https://localhost:8080/"
        },
        "id": "zNrySABuuQq6",
        "outputId": "e9bc5183-9e3f-46f2-a7d7-890dd0eb8c36"
      },
      "execution_count": 1,
      "outputs": [
        {
          "output_type": "stream",
          "name": "stdout",
          "text": [
            "Looking in indexes: https://pypi.org/simple, https://us-python.pkg.dev/colab-wheels/public/simple/\n",
            "Requirement already satisfied: pypmml in /usr/local/lib/python3.9/dist-packages (0.9.17)\n",
            "Requirement already satisfied: py4j>=0.10.7 in /usr/local/lib/python3.9/dist-packages (from pypmml) (0.10.9.7)\n"
          ]
        }
      ]
    },
    {
      "cell_type": "code",
      "source": [
        "\n",
        "from pypmml import Model\n",
        "\n",
        "model = Model.fromFile('SampleXGBoost_Model.pmml')\n",
        "result = model.predict({\n",
        "    \"ccy_group\" :2,\n",
        "    \"fx_type_nds\": 1,\n",
        "    \"manual_notional\": 3,\n",
        "    \"rolling_wae\" : 0.015\n",
        "})\n",
        "print(result)"
      ],
      "metadata": {
        "colab": {
          "base_uri": "https://localhost:8080/"
        },
        "id": "wRN_3zcXuZZB",
        "outputId": "79748739-ab8e-4c1b-de63-18dc50950a65"
      },
      "execution_count": 4,
      "outputs": [
        {
          "output_type": "stream",
          "name": "stdout",
          "text": [
            "{'Predicted_is_winning_broker': '0', 'Probability_1': 0.31688843974005076, 'Probability_0': 0.6831115602599492}\n"
          ]
        }
      ]
    }
  ],
  "metadata": {
    "colab": {
      "name": "Welcome To Colaboratory",
      "provenance": [],
      "include_colab_link": true
    },
    "kernelspec": {
      "display_name": "Python 3",
      "name": "python3"
    }
  },
  "nbformat": 4,
  "nbformat_minor": 0
}