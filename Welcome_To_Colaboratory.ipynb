{
  "cells": [
    {
      "cell_type": "markdown",
      "metadata": {
        "id": "view-in-github",
        "colab_type": "text"
      },
      "source": [
        "<a href=\"https://colab.research.google.com/github/siren7075/PMML/blob/main/Welcome_To_Colaboratory.ipynb\" target=\"_parent\"><img src=\"https://colab.research.google.com/assets/colab-badge.svg\" alt=\"Open In Colab\"/></a>"
      ]
    },
    {
      "cell_type": "code",
      "source": [
        "!pip install pypmml"
      ],
      "metadata": {
        "colab": {
          "base_uri": "https://localhost:8080/"
        },
        "id": "zNrySABuuQq6",
        "outputId": "e639c735-c5c0-4ebd-a859-f88a52b7ff54"
      },
      "execution_count": 13,
      "outputs": [
        {
          "output_type": "stream",
          "name": "stdout",
          "text": [
            "Looking in indexes: https://pypi.org/simple, https://us-python.pkg.dev/colab-wheels/public/simple/\n",
            "Requirement already satisfied: pypmml in /usr/local/lib/python3.9/dist-packages (0.9.17)\n",
            "Requirement already satisfied: py4j>=0.10.7 in /usr/local/lib/python3.9/dist-packages (from pypmml) (0.10.9.7)\n"
          ]
        }
      ]
    },
    {
      "cell_type": "code",
      "source": [
        "from pypmml import Model\n",
        "\n",
        "model = Model.fromFile('SampleXGBoost_Model.pmml')\n",
        "result = model.pridict({\n",
        "    \"ccy_group\" :2,\n",
        "    \"fx_type_nds\": 1,\n",
        "    \"manual_notional\": 3,\n",
        "    \"rolling_wae\" : 0.015\n",
        "})\n",
        "print(result)"
      ],
      "metadata": {
        "id": "wRN_3zcXuZZB"
      },
      "execution_count": null,
      "outputs": []
    }
  ],
  "metadata": {
    "colab": {
      "name": "Welcome To Colaboratory",
      "provenance": [],
      "include_colab_link": true
    },
    "kernelspec": {
      "display_name": "Python 3",
      "name": "python3"
    }
  },
  "nbformat": 4,
  "nbformat_minor": 0
}