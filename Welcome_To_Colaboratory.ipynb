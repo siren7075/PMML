{
  "cells": [
    {
      "cell_type": "markdown",
      "metadata": {
        "id": "view-in-github",
        "colab_type": "text"
      },
      "source": [
        "<a href=\"https://colab.research.google.com/github/siren7075/PMML/blob/main/Welcome_To_Colaboratory.ipynb\" target=\"_parent\"><img src=\"https://colab.research.google.com/assets/colab-badge.svg\" alt=\"Open In Colab\"/></a>"
      ]
    },
    {
      "cell_type": "code",
      "source": [
        "!pip install pypmml"
      ],
      "metadata": {
        "colab": {
          "base_uri": "https://localhost:8080/"
        },
        "id": "zNrySABuuQq6",
        "outputId": "e9bc5183-9e3f-46f2-a7d7-890dd0eb8c36"
      },
      "execution_count": 1,
      "outputs": [
        {
          "output_type": "stream",
          "name": "stdout",
          "text": [
            "Looking in indexes: https://pypi.org/simple, https://us-python.pkg.dev/colab-wheels/public/simple/\n",
            "Requirement already satisfied: pypmml in /usr/local/lib/python3.9/dist-packages (0.9.17)\n",
            "Requirement already satisfied: py4j>=0.10.7 in /usr/local/lib/python3.9/dist-packages (from pypmml) (0.10.9.7)\n"
          ]
        }
      ]
    },
    {
      "cell_type": "code",
      "source": [
        "\n",
        "from pypmml import Model\n",
        "\n",
        "model = Model.fromFile('SampleXGBoost_Model.pmml')\n",
        "result = model.predict({\n",
        "    \"ccy_group\" :2,\n",
        "    \"fx_type_nds\": 1,\n",
        "    \"manual_notional\": 2,\n",
        "    \"rolling_wae\" : 0.188286621990993\n",
        "})\n",
        "print(result)"
      ],
      "metadata": {
        "colab": {
          "base_uri": "https://localhost:8080/"
        },
        "id": "wRN_3zcXuZZB",
        "outputId": "2b7afa78-ce90-4bf5-eb39-98f0628eb6e5"
      },
      "execution_count": 11,
      "outputs": [
        {
          "output_type": "stream",
          "name": "stdout",
          "text": [
            "{'Predicted_is_winning_broker': '0', 'Probability_1': 0.4653674049347339, 'Probability_0': 0.5346325950652663}\n"
          ]
        }
      ]
    },
    {
      "cell_type": "markdown",
      "source": [
        "\n",
        "```\n",
        "The feature names are as follows:\n",
        "•\tccy_group: Currency pair group\n",
        "•\tfx_type_nds: FX product type (Spot, Forward, Swap, NDF, NDS)\n",
        "•\tmanual_notional: Notional bucket (Small, Medium, Large)\n",
        "•\trolling_wae: Rolling performance metric that aligns with a given broker/currency pair/FX type, measuring “win above expected” – note this is the same as RWAE provided in the definitions below (range of -0.5 to 0.93 in full data set)\n",
        " \n",
        "\n",
        "It looks like the categorical variables got encoded (i.e., mapped from strings to numbers)… so here are the encoding values. We can see about fixing this:\n",
        "•\tccy_group:\n",
        "\n",
        "o\t1 = EM\n",
        "o\t2 = G7\n",
        "o\t3 = Scandi\n",
        "•\tfx_type_nds: FX product type (Spot, Forward, Swap, NDF, NDS)\n",
        "o\t1 = Forward\n",
        "o\t2 = NDF\n",
        "o\t3 = NDS\n",
        "o\t4 = Spot\n",
        "o\t5 = Swap\n",
        "•\tmanual_notional:\n",
        "o\t1 = Blank?\n",
        "o\t2 = Large\n",
        "o\t3 = Medium\n",
        "o\t4 = Small\n",
        "\n",
        "The target variable or thing you are trying to predict is whether or not a broker will win given the inputs:\n",
        "•\t1 = Yes\n",
        "•\t0 = No\n",
        "```\n",
        "\n",
        "\n"
      ],
      "metadata": {
        "id": "lECcYWN9wWxJ"
      }
    }
  ],
  "metadata": {
    "colab": {
      "name": "Welcome To Colaboratory",
      "provenance": [],
      "include_colab_link": true
    },
    "kernelspec": {
      "display_name": "Python 3",
      "name": "python3"
    }
  },
  "nbformat": 4,
  "nbformat_minor": 0
}